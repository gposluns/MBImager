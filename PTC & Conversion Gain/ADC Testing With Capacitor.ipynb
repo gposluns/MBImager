{
 "cells": [
  {
   "cell_type": "code",
   "execution_count": 1,
   "metadata": {},
   "outputs": [
    {
     "name": "stdout",
     "output_type": "stream",
     "text": [
      "130\n",
      "180\n",
      "240\n",
      "90\n"
     ]
    }
   ],
   "source": [
    "#filter out unwanted images\n",
    "import os\n",
    "import cv2\n",
    "import shutil\n",
    "import numpy as np\n",
    "stdDict = {}\n",
    "meanDict = {}\n",
    "varDict = {}\n",
    "#change this to access correct folder with dark images\n",
    "directory = 'C:/Users/Wendy/Documents/GitHub/MBImager/build-ImagerGUI-Desktop_Qt_5_9_1_MinGW_32bit-Debug/MBImagerGUI/ADC Test W Cap'\n",
    "for subdir in os.listdir(directory):\n",
    "    print subdir\n",
    "    data = np.zeros((100,160,184))\n",
    "    subdirpath = os.path.join(directory,subdir)\n",
    "    cnt = 0\n",
    "    for filename in os.listdir(subdirpath):\n",
    "        if filename.startswith('bucket2'):\n",
    "            #print filename\n",
    "            data[cnt] = cv2.imread(os.path.join(subdirpath,filename),cv2.IMREAD_GRAYSCALE )\n",
    "            cnt +=1\n",
    "    pixstd = np.zeros((40,20))\n",
    "    pixmean = np.zeros((40,20))\n",
    "    pixvar = np.zeros((40,20))\n",
    "    for row in range(40):\n",
    "        for col in range(20):\n",
    "            pixstd[row,col] = np.std(data[:,row+2,col+2])\n",
    "            pixmean[row,col] = np.mean(data[:,row+2,col+2])\n",
    "            pixvar[row,col] = np.var(data[:,row+2,col+2])\n",
    "    stdDict[subdir] = pixstd\n",
    "    meanDict[subdir] = pixmean\n",
    "    varDict[subdir] = pixvar\n",
    "\n"
   ]
  },
  {
   "cell_type": "code",
   "execution_count": 2,
   "metadata": {},
   "outputs": [
    {
     "data": {
      "image/png": "[encoded data removed]",
      "text/plain": [
       "<matplotlib.figure.Figure at 0x6c52b70>"
      ]
     },
     "metadata": {},
     "output_type": "display_data"
    }
   ],
   "source": [
    "import math\n",
    "import matplotlib.pyplot as plt\n",
    "import numpy as np\n",
    "logmean= np.zeros((40,20,len(stdDict.keys())))\n",
    "lognoise= np.zeros((40,20,len(stdDict.keys())))\n",
    "i = 0\n",
    "for key in sorted(stdDict.keys()):\n",
    "    for row in range(40):\n",
    "        for col in range(20):\n",
    "\n",
    "            logmean[row,col,i] =meanDict[key][row, col]# math.log(meanDict[key][row, col],10)\n",
    "            try:\n",
    "                lognoise[row,col, i] =stdDict[key][row,col]# math.log(stdDict[key][row,col],10)\n",
    "            except:\n",
    "                lognoise[row,col, i] = 0\n",
    "            \n",
    "    \n",
    "    i +=1\n",
    "for row in range(40):\n",
    "    for col in range(20):\n",
    "        plt.plot(logmean[row, col], lognoise[row,col], 'o')\n",
    "plt.show()\n"
   ]
  },
  {
   "cell_type": "code",
   "execution_count": 3,
   "metadata": {},
   "outputs": [
    {
     "name": "stdout",
     "output_type": "stream",
     "text": [
      "130\n",
      "180\n",
      "240\n",
      "90\n"
     ]
    }
   ],
   "source": [
    "#filter out unwanted images\n",
    "import os\n",
    "import cv2\n",
    "import shutil\n",
    "import numpy as np\n",
    "stdDict = {}\n",
    "meanDict = {}\n",
    "varDict = {}\n",
    "#change this to access correct folder with dark images\n",
    "directory = 'C:/Users/Wendy/Documents/GitHub/MBImager/build-ImagerGUI-Desktop_Qt_5_9_1_MinGW_32bit-Debug/MBImagerGUI/ADC Test W Cap'\n",
    "for subdir in os.listdir(directory):\n",
    "    print subdir\n",
    "    data = np.zeros((100,160,184))\n",
    "    subdirpath = os.path.join(directory,subdir)\n",
    "    cnt = 0\n",
    "    for filename in os.listdir(subdirpath):\n",
    "        if filename.startswith('bucket2'):\n",
    "            #print filename\n",
    "            data[cnt] = cv2.imread(os.path.join(subdirpath,filename),cv2.IMREAD_GRAYSCALE )\n",
    "            cnt +=1\n",
    "    pixstd = np.zeros((40,2))\n",
    "    pixmean = np.zeros((40,2))\n",
    "    pixvar = np.zeros((40,2))\n",
    "    for row in range(40):\n",
    "        for col in range(2):\n",
    "            pixstd[row,col] = np.std(data[:,row+2,col+2])\n",
    "            pixmean[row,col] = np.mean(data[:,row+2,col+2])\n",
    "            pixvar[row,col] = np.var(data[:,row+2,col+2])\n",
    "    stdDict[subdir] = pixstd\n",
    "    meanDict[subdir] = pixmean\n",
    "    varDict[subdir] = pixvar\n",
    "\n"
   ]
  },
  {
   "cell_type": "code",
   "execution_count": 4,
   "metadata": {},
   "outputs": [
    {
     "data": {
      "image/png": "[encoded data removed]",
      "text/plain": [
       "<matplotlib.figure.Figure at 0x60d7128>"
      ]
     },
     "metadata": {},
     "output_type": "display_data"
    }
   ],
   "source": [
    "import math\n",
    "import matplotlib.pyplot as plt\n",
    "import numpy as np\n",
    "logmean= np.zeros((40,2,len(stdDict.keys())))\n",
    "lognoise= np.zeros((40,2,len(stdDict.keys())))\n",
    "i = 0\n",
    "for key in sorted(stdDict.keys()):\n",
    "    for row in range(40):\n",
    "        for col in range(2):\n",
    "\n",
    "            logmean[row,col,i] = meanDict[key][row, col]#math.log(meanDict[key][row, col],10)\n",
    "            try:\n",
    "                lognoise[row,col, i] = stdDict[key][row,col]#math.log(stdDict[key][row,col],10)\n",
    "            except:\n",
    "                lognoise[row,col, i] = 0\n",
    "            \n",
    "    \n",
    "    i +=1\n",
    "for row in range(40):\n",
    "    for col in range(2):\n",
    "        plt.plot(logmean[row, col], lognoise[row,col], 'o')\n",
    "plt.show()"
   ]
  },
  {
   "cell_type": "code",
   "execution_count": 5,
   "metadata": {},
   "outputs": [
    {
     "data": {
      "image/png": "[encoded data removed]",
      "text/plain": [
       "<matplotlib.figure.Figure at 0xb66a898>"
      ]
     },
     "metadata": {},
     "output_type": "display_data"
    }
   ],
   "source": [
    "row =1\n",
    "col =1\n",
    "#fit = np.polyfit(logmean[row, col], lognoise[row,col], 1)\n",
    "#fit_fn = np.poly1d(fit)\n",
    "#plt.plot(logmean[row,col], fit_fn(logmean[row, col]))\n",
    "plt.plot(logmean[row, col], lognoise[row,col],'o')\n",
    "plt.show()\n",
    "#print fit[0], fit[1]"
   ]
  },
  {
   "cell_type": "code",
   "execution_count": 6,
   "metadata": {},
   "outputs": [
    {
     "name": "stdout",
     "output_type": "stream",
     "text": [
      "130\n",
      "180\n",
      "240\n",
      "90\n"
     ]
    }
   ],
   "source": [
    "#filter out unwanted images\n",
    "import os\n",
    "import cv2\n",
    "import shutil\n",
    "import numpy as np\n",
    "stdDict = {}\n",
    "meanDict = {}\n",
    "varDict = {}\n",
    "#change this to access correct folder with dark images\n",
    "directory = 'C:/Users/Wendy/Documents/GitHub/MBImager/build-ImagerGUI-Desktop_Qt_5_9_1_MinGW_32bit-Debug/MBImagerGUI/ADC Test W Cap'\n",
    "for subdir in os.listdir(directory):\n",
    "    print subdir\n",
    "    data = np.zeros((100,160,184))\n",
    "    subdirpath = os.path.join(directory,subdir)\n",
    "    cnt = 0\n",
    "    for filename in os.listdir(subdirpath):\n",
    "        if filename.startswith('bucket2'):\n",
    "            #print filename\n",
    "            data[cnt] = cv2.imread(os.path.join(subdirpath,filename),cv2.IMREAD_GRAYSCALE )\n",
    "            cnt +=1\n",
    "    pixstd = np.zeros((40,10))\n",
    "    pixmean = np.zeros((40,10))\n",
    "    pixvar = np.zeros((40,10))\n",
    "    for row in range(40):\n",
    "        for col in range(10):\n",
    "            pixstd[row,col] = np.std(data[:,row+2,col+5])\n",
    "            pixmean[row,col] = np.mean(data[:,row+2,col+5])\n",
    "            pixvar[row,col] = np.var(data[:,row+2,col+5])\n",
    "    stdDict[subdir] = pixstd\n",
    "    meanDict[subdir] = pixmean\n",
    "    varDict[subdir] = pixvar\n",
    "\n"
   ]
  },
  {
   "cell_type": "code",
   "execution_count": 7,
   "metadata": {},
   "outputs": [
    {
     "data": {
      "image/png": "[encoded data removed]",
      "text/plain": [
       "<matplotlib.figure.Figure at 0x60d9278>"
      ]
     },
     "metadata": {},
     "output_type": "display_data"
    }
   ],
   "source": [
    "import math\n",
    "import matplotlib.pyplot as plt\n",
    "import numpy as np\n",
    "logmean= np.zeros((40,10,len(stdDict.keys())))\n",
    "lognoise= np.zeros((40,10,len(stdDict.keys())))\n",
    "i = 0\n",
    "for key in sorted(stdDict.keys()):\n",
    "    for row in range(40):\n",
    "        for col in range(10):\n",
    "\n",
    "            logmean[row,col,i] = math.log(meanDict[key][row, col],10)\n",
    "            try:\n",
    "                lognoise[row,col, i] = math.log(stdDict[key][row,col],10)\n",
    "            except:\n",
    "                lognoise[row,col, i] = 0\n",
    "            \n",
    "    \n",
    "    i +=1\n",
    "for row in range(40):\n",
    "    for col in range(10):\n",
    "        plt.plot(logmean[row, col], lognoise[row,col], 'o')\n",
    "plt.show()"
   ]
  },
  {
   "cell_type": "code",
   "execution_count": 8,
   "metadata": {},
   "outputs": [
    {
     "name": "stdout",
     "output_type": "stream",
     "text": [
      "130\n",
      "180\n",
      "240\n",
      "90\n"
     ]
    },
    {
     "data": {
      "image/png": "[encoded data removed]",
      "text/plain": [
       "<matplotlib.figure.Figure at 0xa6b8198>"
      ]
     },
     "metadata": {},
     "output_type": "display_data"
    }
   ],
   "source": [
    "#filter out unwanted images\n",
    "import os\n",
    "import cv2\n",
    "import shutil\n",
    "import numpy as np\n",
    "import math\n",
    "import matplotlib.pyplot as plt\n",
    "\n",
    "stdDict = {}\n",
    "meanDict = {}\n",
    "varDict = {}\n",
    "#change this to access correct folder with dark images\n",
    "directory = 'C:/Users/Wendy/Documents/GitHub/MBImager/build-ImagerGUI-Desktop_Qt_5_9_1_MinGW_32bit-Debug/MBImagerGUI/ADC Test W Cap'\n",
    "for subdir in os.listdir(directory):\n",
    "    print subdir\n",
    "    data = np.zeros((100,160,184))\n",
    "    subdirpath = os.path.join(directory,subdir)\n",
    "    cnt = 0\n",
    "    for filename in os.listdir(subdirpath):\n",
    "        if filename.startswith('bucket2'):\n",
    "            #print filename\n",
    "            data[cnt] = cv2.imread(os.path.join(subdirpath,filename),cv2.IMREAD_GRAYSCALE )\n",
    "            cnt +=1\n",
    "    w = 40\n",
    "    h = 40\n",
    "    x_off = 50\n",
    "    y_off = 10\n",
    "    pixstd = np.zeros((h,w))\n",
    "    pixmean = np.zeros((h,w))\n",
    "    pixvar = np.zeros((h,w))\n",
    "    for row in range(h):\n",
    "        for col in range(w):\n",
    "            pixstd[row,col] = np.std(data[:,row+y_off,col+x_off])\n",
    "            pixmean[row,col] = np.mean(data[:,row+y_off,col+x_off])\n",
    "            pixvar[row,col] = np.var(data[:,row+y_off,col+x_off])\n",
    "    stdDict[subdir] = pixstd\n",
    "    meanDict[subdir] = pixmean\n",
    "    varDict[subdir] = pixvar\n",
    "\n",
    "logmean= np.zeros((h,w,len(stdDict.keys())))\n",
    "lognoise= np.zeros((h,w,len(stdDict.keys())))\n",
    "i = 0\n",
    "for key in sorted(stdDict.keys()):\n",
    "    for row in range(h):\n",
    "        for col in range(w):\n",
    "            try:\n",
    "                logmean[row,col,i] = math.log(meanDict[key][row, col],10)\n",
    "            except: \n",
    "                logmean[row,col,i] = 0\n",
    "            try:\n",
    "                lognoise[row,col, i] = math.log(stdDict[key][row,col],10)\n",
    "            except:\n",
    "                lognoise[row,col, i] = 0\n",
    "            \n",
    "    \n",
    "    i +=1\n",
    "for row in range(h):\n",
    "    for col in range(w):\n",
    "        plt.plot(logmean[row, col], lognoise[row,col], 'o')\n",
    "plt.show()"
   ]
  },
  {
   "cell_type": "code",
   "execution_count": null,
   "metadata": {
    "collapsed": true
   },
   "outputs": [],
   "source": []
  }
 ],
 "metadata": {
  "kernelspec": {
   "display_name": "Python 2",
   "language": "python",
   "name": "python2"
  },
  "language_info": {
   "codemirror_mode": {
    "name": "ipython",
    "version": 2
   },
   "file_extension": ".py",
   "mimetype": "text/x-python",
   "name": "python",
   "nbconvert_exporter": "python",
   "pygments_lexer": "ipython2",
   "version": "2.7.13"
  }
 },
 "nbformat": 4,
 "nbformat_minor": 2
}
