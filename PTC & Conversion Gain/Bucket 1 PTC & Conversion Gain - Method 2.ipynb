{
 "cells": [
  {
   "cell_type": "code",
   "execution_count": 2,
   "metadata": {
    "collapsed": true
   },
   "outputs": [],
   "source": [
    "#create dictionaries of data with exposure as keys\n",
    "stdDict1 = {}\n",
    "meanDict1 = {}\n",
    "varDict1 = {}"
   ]
  },
  {
   "cell_type": "code",
   "execution_count": 3,
   "metadata": {},
   "outputs": [
    {
     "name": "stdout",
     "output_type": "stream",
     "text": [
      "Device[0] Model: 21\n",
      "Device[0] Serial: 143400091C\n"
     ]
    },
    {
     "data": {
      "text/plain": [
       "0"
      ]
     },
     "execution_count": 3,
     "metadata": {},
     "output_type": "execute_result"
    }
   ],
   "source": [
    "#setup\n",
    "from FrontPanelAPI import ok\n",
    "import time\n",
    "import numpy as np\n",
    "import cv2\n",
    "import math\n",
    "import matplotlib.pyplot as plt\n",
    "\n",
    "dev = ok.okCFrontPanel()\n",
    "deviceCount = dev.GetDeviceCount()\n",
    "for i in range(deviceCount):\n",
    "    print 'Device[{0}] Model: {1}'.format(i, dev.GetDeviceListModel(i))\n",
    "    print 'Device[{0}] Serial: {1}'.format(i, dev.GetDeviceListSerial(i))\n",
    "\n",
    "dev = ok.okCFrontPanel()\n",
    "dev.OpenBySerial(\"\")\n",
    "dev.ConfigureFPGA(\"ok_imager.bit\")"
   ]
  },
  {
   "cell_type": "code",
   "execution_count": null,
   "metadata": {
    "collapsed": true
   },
   "outputs": [],
   "source": [
    "#please close aperture"
   ]
  },
  {
   "cell_type": "code",
   "execution_count": null,
   "metadata": {
    "collapsed": true
   },
   "outputs": [],
   "source": [
    "#grab 100 frames with aperture closed to obtain offset\n",
    "dev = ok.okCFrontPanel()\n",
    "deviceCount = dev.GetDeviceCount()\n",
    "for i in range(deviceCount):\n",
    "    print 'Device[{0}] Model: {1}'.format(i, dev.GetDeviceListModel(i))\n",
    "    print 'Device[{0}] Serial: {1}'.format(i, dev.GetDeviceListSerial(i))\n",
    "\n",
    "dev = ok.okCFrontPanel()\n",
    "dev.OpenBySerial(\"\")\n",
    "dev.ConfigureFPGA(\"ok_imager.bit\")\n",
    "if dev.IsFrontPanelEnabled():\n",
    "    row = 160\n",
    "    N_adc = 4\n",
    "    N_adcCh = 3\n",
    "    N_mux = 46\n",
    "    col = N_adc*N_adcCh*N_mux\n",
    "    datain128 = bytearray(262144)\n",
    "    datain1 = bytearray(88320)\n",
    "    im = np.zeros((row ,col), np.uint8)\n",
    "    im1 = np.zeros((79 ,60), np.uint8)\n",
    "    im2 = np.zeros((79 ,60), np.uint8)\n",
    "    \n",
    "    exp =3.0\n",
    "    exposure = int(10**exp)\n",
    "    \n",
    "    while exp<4.7:\n",
    "        print exposure\n",
    "        offset1 = np.zeros((79,60))\n",
    "        elsecounter = 0   \n",
    "        rep = 0\n",
    "        dev.SetWireInValue(0x11,exposure)\n",
    "        dev.SetWireInValue(0x12,1)\n",
    "        dev.SetWireInValue(0x13,0)\n",
    "        dev.SetWireInValue(0x14,0)\n",
    "        dev.SetWireInValue(0x15, 0xfff003ff)\n",
    "        dev.UpdateWireIns()\n",
    "        time.sleep(0.01)\n",
    "        # assert reset signal to initialize the FIFO\n",
    "        dev.SetWireInValue(0x10, 0xff, 0x01)\n",
    "        dev.UpdateWireIns()\n",
    "        # deactivate reset signal and activate counter.\n",
    "        dev.SetWireInValue(0x10, 0x00, 0x01)\n",
    "        dev.UpdateWireIns()\n",
    "        time.sleep(0.1)\n",
    "        while rep<120:\n",
    "            dev.UpdateTriggerOuts()\n",
    "            # If the FIFO is full, read everything and display one frame only\n",
    "            if dev.IsTriggered(0x6A, 0x01) == True:\n",
    "                dev.ReadFromPipeOut(0xA0, datain128)\n",
    "                for i in range(row):\n",
    "                    for j in range(N_adc):\n",
    "                        for k in range(N_adcCh):\n",
    "                            for l in range(N_mux):\n",
    "                                im[row-1-i][col-1-(j*N_adcCh*N_mux+(2-k)*N_mux+45-l)] = datain128[i*col+l*N_adc*N_adcCh+k*N_adc+j]\n",
    "                #im = im/255\n",
    "                im1[:,:] = im[1:80,142:262:2]\n",
    "                if np.any(im1):\n",
    "                    rep+=1\n",
    "                    if rep>20: #to account for noise at the beginning\n",
    "                        offset1 +=im1\n",
    "\n",
    "            # If one frame is ready in FIFO\n",
    "            elif dev.IsTriggered(0x6A, 0x02) == True:\n",
    "                dev.ReadFromPipeOut(0xA0, datain1)\n",
    "                for i in range(row):\n",
    "                    for j in range(N_adc):\n",
    "                        for k in range(N_adcCh):\n",
    "                            for l in range(N_mux):\n",
    "                                im[row-1-i][col-1-(j*N_adcCh*N_mux+(2-k)*N_mux+45-l)] = datain1[i*col+l*N_adc*N_adcCh+k*N_adc+j]\n",
    "                #im = im/255\n",
    "                im1[:,:] = im[1:80,142:262:2]\n",
    "                rep+=1\n",
    "                if np.any(im1):\n",
    "                    if rep>20: #to account for noise at the beginning\n",
    "                        offset1 +=im1\n",
    "            else:\n",
    "                elsecounter += 1\n",
    "                print elsecounter\n",
    "                if elsecounter>10:\n",
    "                    elsecounter = 0\n",
    "                    # assert reset signal to initialize the FIFO\n",
    "                    dev.SetWireInValue(0x10, 0xff, 0x01)\n",
    "                    dev.UpdateWireIns()\n",
    "                    # deactivate reset signal and activate counter.\n",
    "                    dev.SetWireInValue(0x10, 0x00, 0x01)\n",
    "                    dev.UpdateWireIns()\n",
    "\n",
    "            if (rep)%10 ==0:\n",
    "                print rep \n",
    "        offset1= offset1/100\n",
    "        cv2.imwrite(str(exposure)+'.png',offset1) #save offset images\n",
    "        exp +=0.05\n",
    "        exposure = int(10**exp)\n",
    "else:\n",
    "    print(\"FrontPanel host interface not detected.\")"
   ]
  },
  {
   "cell_type": "code",
   "execution_count": 47,
   "metadata": {},
   "outputs": [
    {
     "name": "stdout",
     "output_type": "stream",
     "text": [
      "[[34 36 33 ..., 29 32 31]\n",
      " [41 34 34 ..., 31 32 32]\n",
      " [33 32 35 ..., 31 28 33]\n",
      " ..., \n",
      " [35 34 36 ..., 28 38 31]\n",
      " [33 35 35 ..., 30 35 28]\n",
      " [34 33 34 ..., 29 32 29]]\n"
     ]
    }
   ],
   "source": [
    "#please open aperture and expose camera to even illumination\n"
   ]
  },
  {
   "cell_type": "code",
   "execution_count": 49,
   "metadata": {
    "scrolled": true
   },
   "outputs": [
    {
     "name": "stdout",
     "output_type": "stream",
     "text": [
      "Device[0] Model: 21\n",
      "Device[0] Serial: 143400091C\n",
      "6309\n",
      "7079\n",
      "7943\n",
      "8912\n",
      "9999\n",
      "11220\n",
      "12589\n",
      "14125\n",
      "15848\n",
      "17782\n",
      "19952\n",
      "22387\n",
      "25118\n",
      " \n",
      "0.674 x - 1.267\n"
     ]
    },
    {
     "data": {
      "image/png": "[encoded data removed]",
      "text/plain": [
       "<matplotlib.figure.Figure at 0x969d1d0>"
      ]
     },
     "metadata": {},
     "output_type": "display_data"
    }
   ],
   "source": [
    "#create dictionaries of data with exposure as keys\n",
    "stdDict1 = {}\n",
    "meanDict1 = {}\n",
    "varDict1 = {}\n",
    "#grab 100 frames with aperture open to obtain signal \n",
    "#might have to manually change exposure due to issues with camera \n",
    "dev = ok.okCFrontPanel()\n",
    "deviceCount = dev.GetDeviceCount()\n",
    "for i in range(deviceCount):\n",
    "    print 'Device[{0}] Model: {1}'.format(i, dev.GetDeviceListModel(i))\n",
    "    print 'Device[{0}] Serial: {1}'.format(i, dev.GetDeviceListSerial(i))\n",
    "\n",
    "dev = ok.okCFrontPanel()\n",
    "dev.OpenBySerial(\"\")\n",
    "dev.ConfigureFPGA(\"ok_imager.bit\")\n",
    "if dev.IsFrontPanelEnabled():\n",
    "\n",
    "    exp =3.8\n",
    "    exposure = int(10**exp)\n",
    "    \n",
    "    while exp<4.4:\n",
    "        offset1 = cv2.imread(str(int(exposure))+'.png',0)\n",
    "        row = 160\n",
    "        N_adc = 4\n",
    "        N_adcCh = 3\n",
    "        N_mux = 46\n",
    "        col = N_adc*N_adcCh*N_mux\n",
    "        datain128 = bytearray(262144)\n",
    "        datain1 = bytearray(88320)\n",
    "        im = np.zeros((row ,col))\n",
    "        im1 = np.zeros((79 ,60))\n",
    "        im2 = np.zeros((79 ,60))\n",
    "        sample1 = np.zeros((79,60))\n",
    "        sample2 = np.zeros((79,60))\n",
    "        data1 = np.zeros((100,79,60))\n",
    "        imgcheck = np.zeros((79,60))\n",
    "        elsecounter = 0 \n",
    "        rep = 0\n",
    "        print exposure\n",
    "        offset1 = cv2.imread(str(int(exposure))+'.png',0)\n",
    "        \n",
    "        dev.SetWireInValue(0x11,exposure)\n",
    "        dev.SetWireInValue(0x12,1)\n",
    "        dev.SetWireInValue(0x13,0)\n",
    "        dev.SetWireInValue(0x14,0)\n",
    "        dev.SetWireInValue(0x15, 0xfff003ff)\n",
    "        dev.UpdateWireIns()\n",
    "        time.sleep(0.01)\n",
    "        # assert reset signal to initialize the FIFO\n",
    "        dev.SetWireInValue(0x10, 0xff, 0x01)\n",
    "        dev.UpdateWireIns()\n",
    "        # deactivate reset signal and activate counter.\n",
    "        dev.SetWireInValue(0x10, 0x00, 0x01)\n",
    "        dev.UpdateWireIns()\n",
    "        time.sleep(0.1)\n",
    "\n",
    "        while rep<12:\n",
    "            dev.UpdateTriggerOuts()\n",
    "            # If the FIFO is full, read everything and display one frame only\n",
    "            if dev.IsTriggered(0x6A, 0x01) == True:\n",
    "                dev.ReadFromPipeOut(0xA0, datain128)\n",
    "                for i in range(row):\n",
    "                    for j in range(N_adc):\n",
    "                        for k in range(N_adcCh):\n",
    "                            for l in range(N_mux):\n",
    "                                im[row-1-i][col-1-(j*N_adcCh*N_mux+(2-k)*N_mux+45-l)] = datain128[i*col+l*N_adc*N_adcCh+k*N_adc+j]\n",
    "                im1[:,:] = im[1:80,142:262:2]\n",
    "                if np.any(im1):\n",
    "                    rep+=1\n",
    "                    if rep==11:\n",
    "                        sample1 = im1 - offset1\n",
    "                    elif rep ==12:\n",
    "                        sample2 = im1 - offset1\n",
    "\n",
    "            # If one frame is ready in FIFO\n",
    "            elif dev.IsTriggered(0x6A, 0x02) == True:\n",
    "                dev.ReadFromPipeOut(0xA0, datain1)\n",
    "                for i in range(row):\n",
    "                    for j in range(N_adc):\n",
    "                        for k in range(N_adcCh):\n",
    "                            for l in range(N_mux):\n",
    "                                im[row-1-i][col-1-(j*N_adcCh*N_mux+(2-k)*N_mux+45-l)] = datain1[i*col+l*N_adc*N_adcCh+k*N_adc+j]\n",
    "\n",
    "                im1[:,:] = im[1:80,142:262:2]\n",
    "                if np.any(im1):\n",
    "                    rep+=1\n",
    "                    if rep==11:\n",
    "                        sample1 = im1 - offset1\n",
    "                    elif rep ==12:\n",
    "                        sample2 = im1 - offset1\n",
    "            else:\n",
    "                elsecounter += 1\n",
    "                print elsecounter\n",
    "                if elsecounter>10:\n",
    "                    elsecounter = 0\n",
    "                    # assert reset signal to initialize the FIFO\n",
    "                    dev.SetWireInValue(0x10, 0xff, 0x01)\n",
    "                    dev.UpdateWireIns()\n",
    "                    # deactivate reset signal and activate counter.\n",
    "                    dev.SetWireInValue(0x10, 0x00, 0x01)\n",
    "                    dev.UpdateWireIns()\n",
    "        #compute the standard deviation and average signal of each pixel \n",
    "        mean = np.mean(sample1)\n",
    "        std = np.std(sample1-sample2)\n",
    "        var = np.var(sample1-sample2)\n",
    "        cv2.imwrite(str(exposure)+'test1.png', sample1)#make sure the data is ok\n",
    "        cv2.imwrite(str(exposure)+'test2.png', sample2)#make sure the data is ok\n",
    "        stdDict1[exposure] = std\n",
    "        meanDict1[exposure]= mean\n",
    "        varDict1[exposure]= var\n",
    "\n",
    "        exp +=0.05\n",
    "        exposure = int(10**exp)\n",
    "    x = np.zeros(len(stdDict1.keys()))\n",
    "    y = np.zeros(len(stdDict1.keys()))\n",
    "    i = 0\n",
    "    for key in sorted(stdDict1.keys()):\n",
    "        x[i] = math.log(meanDict1[key],10)\n",
    "        y[i] = math.log(stdDict1[key],10)\n",
    "        i +=1\n",
    "    p=np.poly1d(np.polyfit(x,y,1))\n",
    "    print (np.poly1d(p))\n",
    "    plt.plot(x, p(x), label = 'fit', linestyle = '-')\n",
    "    plt.plot(x,y,'o',label = 'data')\n",
    "    plt.legend()\n",
    "    plt.show()\n",
    "else:\n",
    "    print(\"FrontPanel host interface not detected.\")"
   ]
  },
  {
   "cell_type": "code",
   "execution_count": 50,
   "metadata": {},
   "outputs": [
    {
     "name": "stdout",
     "output_type": "stream",
     "text": [
      " \n",
      "0.02129 x - 0.676\n"
     ]
    },
    {
     "data": {
      "image/png": "[encoded data removed]",
      "text/plain": [
       "<matplotlib.figure.Figure at 0x95e0f60>"
      ]
     },
     "metadata": {},
     "output_type": "display_data"
    }
   ],
   "source": [
    "x = np.zeros(len(stdDict1.keys()))\n",
    "y = np.zeros(len(stdDict1.keys()))\n",
    "i = 0\n",
    "for key in sorted(stdDict1.keys()):\n",
    "    x[i] = meanDict1[key]\n",
    "    y[i] = varDict1[key]\n",
    "    i +=1\n",
    "p=np.poly1d(np.polyfit(x,y,1))\n",
    "print (np.poly1d(p))\n",
    "plt.plot(x, p(x), label = 'fit', linestyle = '-')\n",
    "plt.plot(x,y,'o',label = 'data')\n",
    "plt.legend()\n",
    "plt.show()"
   ]
  },
  {
   "cell_type": "code",
   "execution_count": 51,
   "metadata": {},
   "outputs": [],
   "source": [
    "import pickle\n",
    "\n",
    "#save dictionaries\n",
    "\n",
    "with open('stdDict1.pkl', 'wb') as output:\n",
    "    pickle.dump(stdDict1, output)\n",
    "\n",
    "with open('meanDict1.pkl', 'wb') as output:\n",
    "    pickle.dump(meanDict1, output)\n",
    "    \n",
    "with open('varDict1.pkl', 'wb') as output:\n",
    "    pickle.dump(varDict1, output)    \n"
   ]
  },
  {
   "cell_type": "code",
   "execution_count": 52,
   "metadata": {},
   "outputs": [
    {
     "name": "stdout",
     "output_type": "stream",
     "text": [
      " \n",
      "0.674 x - 1.267\n"
     ]
    },
    {
     "data": {
      "image/png": "[encoded data removed]",
      "text/plain": [
       "<matplotlib.figure.Figure at 0xa141710>"
      ]
     },
     "metadata": {},
     "output_type": "display_data"
    }
   ],
   "source": [
    "import math\n",
    "import matplotlib.pyplot as plt\n",
    "import numpy as np\n",
    "#load dictionaries to plot data\n",
    "with open('stdDict1.pkl', \"rb\") as fp:\n",
    "    stdDict = pickle.load(fp) \n",
    "\n",
    "with open('meanDict1.pkl', \"rb\") as fp:\n",
    "    meanDict = pickle.load(fp) \n",
    "    \n",
    "with open('varDict1.pkl', \"rb\") as fp:\n",
    "    varDict = pickle.load(fp)   \n",
    "x = np.zeros(len(stdDict1.keys()))\n",
    "y = np.zeros(len(stdDict1.keys()))\n",
    "i = 0\n",
    "for key in sorted(stdDict1.keys()):\n",
    "    x[i] = math.log(meanDict1[key],10)\n",
    "    y[i] = math.log(stdDict1[key],10)\n",
    "    i +=1\n",
    "p=np.poly1d(np.polyfit(x,y,1))\n",
    "print (np.poly1d(p))\n",
    "plt.plot(x, p(x), label = 'fit', linestyle = '-')\n",
    "plt.plot(x,y,'o',label = 'data')\n",
    "plt.legend()\n",
    "plt.show()"
   ]
  },
  {
   "cell_type": "code",
   "execution_count": null,
   "metadata": {
    "collapsed": true
   },
   "outputs": [],
   "source": []
  }
 ],
 "metadata": {
  "kernelspec": {
   "display_name": "Python 2",
   "language": "python",
   "name": "python2"
  },
  "language_info": {
   "codemirror_mode": {
    "name": "ipython",
    "version": 2
   },
   "file_extension": ".py",
   "mimetype": "text/x-python",
   "name": "python",
   "nbconvert_exporter": "python",
   "pygments_lexer": "ipython2",
   "version": "2.7.13"
  }
 },
 "nbformat": 4,
 "nbformat_minor": 2
}
