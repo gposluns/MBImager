{
 "cells": [
  {
   "cell_type": "code",
   "execution_count": 1,
   "metadata": {},
   "outputs": [],
   "source": [
    "import os\n",
    "import cv2\n",
    "\n",
    "directory = 'C:/Users/Wendy/Documents/GitHub/MBImager/build-ImagerGUI-Desktop_Qt_5_9_1_MinGW_32bit-Debug/MBImagerGUI'\n",
    "\n",
    "for subdir in os.listdir(directory):\n",
    "    subdirpath = os.path.join(directory,subdir)\n",
    "    for filename in os.listdir(subdirpath):\n",
    "        if filename.startswith('bucket1'):\n",
    "            os.remove(os.path.join(subdirpath,filename))\n",
    "    img1 = cv2.imread(os.path.join(subdirpath,os.listdir(subdirpath)[0]),cv2.IMREAD_GRAYSCALE )\n",
    "    hist1 = cv2.calcHist([img1],[0],None,[256],[0,256])\n",
    "    for filename in os.listdir(subdirpath):\n",
    "        print filename\n",
    "        img2 = cv2.imread(os.path.join(subdirpath,filename),cv2.IMREAD_GRAYSCALE )\n",
    "        hist2 = cv2.calcHist([img2],[0],None,[256],[0,256])\n",
    "        print cv2.compareHist(hist1,hist2,cv2.HISTCMP_CORREL)\n",
    "        print cv2.compareHist(hist1,hist2,cv2.HISTCMP_CHISQR)\n",
    "        print cv2.compareHist(hist1,hist2,cv2.HISTCMP_INTERSECT)\n",
    "        print cv2.compareHist(hist1,hist2,cv2.HISTCMP_HELLINGER)\n",
    "        if cv2.compareHist(hist1,hist2,cv2.HISTCMP_CORREL) <0.97:\n",
    "            os.remove(os.path.join(subdirpath,filename))\n"
   ]
  },
  {
   "cell_type": "code",
   "execution_count": 31,
   "metadata": {
    "scrolled": true
   },
   "outputs": [
    {
     "name": "stdout",
     "output_type": "stream",
     "text": [
      "1000\n",
      "1122\n",
      "1258\n",
      "1412\n",
      "1584\n",
      "1778\n",
      "1995\n",
      "2238\n",
      "2511\n",
      "2818\n",
      "3162\n",
      "3548\n",
      "3981\n",
      "4466\n",
      "5011\n",
      "5623\n",
      "6309\n",
      "7079\n",
      "7943\n",
      "8912\n",
      "9999\n",
      "11220\n",
      "12589\n",
      "14125\n",
      "15848\n",
      "17782\n",
      "19952\n",
      "22387\n",
      "25118\n",
      "28183\n",
      "31622\n",
      "35481\n",
      "39810\n",
      "44668\n",
      "50118\n",
      "56234\n",
      "63095\n",
      "70794\n",
      "79432\n",
      "89125\n",
      "99999\n"
     ]
    }
   ],
   "source": [
    "i = 3\n",
    "while i <5:\n",
    "    print int(10**i)\n",
    "    i+=0.05"
   ]
  },
  {
   "cell_type": "code",
   "execution_count": null,
   "metadata": {
    "collapsed": true
   },
   "outputs": [],
   "source": []
  }
 ],
 "metadata": {
  "kernelspec": {
   "display_name": "Python 2",
   "language": "python",
   "name": "python2"
  },
  "language_info": {
   "codemirror_mode": {
    "name": "ipython",
    "version": 2
   },
   "file_extension": ".py",
   "mimetype": "text/x-python",
   "name": "python",
   "nbconvert_exporter": "python",
   "pygments_lexer": "ipython2",
   "version": "2.7.13"
  }
 },
 "nbformat": 4,
 "nbformat_minor": 2
}
